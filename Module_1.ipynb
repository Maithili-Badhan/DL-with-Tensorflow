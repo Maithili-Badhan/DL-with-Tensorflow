{
  "nbformat": 4,
  "nbformat_minor": 0,
  "metadata": {
    "colab": {
      "provenance": [],
      "authorship_tag": "ABX9TyMzjry9GzTfYk6iLYCK6Cyr",
      "include_colab_link": true
    },
    "kernelspec": {
      "name": "python3",
      "display_name": "Python 3"
    },
    "language_info": {
      "name": "python"
    }
  },
  "cells": [
    {
      "cell_type": "markdown",
      "metadata": {
        "id": "view-in-github",
        "colab_type": "text"
      },
      "source": [
        "<a href=\"https://colab.research.google.com/github/Maithili-Badhan/DL-with-Tensorflow/blob/main/Module_1.ipynb\" target=\"_parent\"><img src=\"https://colab.research.google.com/assets/colab-badge.svg\" alt=\"Open In Colab\"/></a>"
      ]
    },
    {
      "cell_type": "markdown",
      "source": [
        "# Sequential API"
      ],
      "metadata": {
        "id": "pCUVDY78CObX"
      }
    },
    {
      "cell_type": "code",
      "execution_count": 1,
      "metadata": {
        "id": "ecSDUKQrBxMW"
      },
      "outputs": [],
      "source": [
        "import tensorflow\n",
        "from tensorflow import keras\n",
        "from tensorflow.keras.models import Sequential\n",
        "from tensorflow.keras.layers import Dense"
      ]
    },
    {
      "cell_type": "code",
      "source": [
        "#create a sequential model\n",
        "model = Sequential([\n",
        "    Dense(64, activation = 'relu', input_shape = (784,)),\n",
        "    Dense(10, activation = 'softmax')\n",
        "])\n",
        "\n",
        "#compile the model\n",
        "model.compile(optimizer='adam', loss='spare_categorical_crossentropy', metrics=['accuracy'])"
      ],
      "metadata": {
        "id": "V_znlu4qClus",
        "outputId": "b8d5f9ee-7912-4a7a-931f-d5d83da80164",
        "colab": {
          "base_uri": "https://localhost:8080/"
        }
      },
      "execution_count": 5,
      "outputs": [
        {
          "output_type": "stream",
          "name": "stderr",
          "text": [
            "/usr/local/lib/python3.11/dist-packages/keras/src/layers/core/dense.py:87: UserWarning: Do not pass an `input_shape`/`input_dim` argument to a layer. When using Sequential models, prefer using an `Input(shape)` object as the first layer in the model instead.\n",
            "  super().__init__(activity_regularizer=activity_regularizer, **kwargs)\n"
          ]
        }
      ]
    },
    {
      "cell_type": "markdown",
      "source": [
        "# Functional API"
      ],
      "metadata": {
        "id": "Wx1Aq48MDO43"
      }
    },
    {
      "cell_type": "code",
      "source": [
        "from tensorflow.keras.models import Model\n",
        "from tensorflow.keras.layers import Input, Dense"
      ],
      "metadata": {
        "id": "flTVadJODKd8"
      },
      "execution_count": 3,
      "outputs": []
    },
    {
      "cell_type": "code",
      "source": [
        "inputs = Input(shape=(784,))\n",
        "x = Dense(64, activation='relu')(inputs)\n",
        "outputs = Dense(10, activation='softmax')(x)\n",
        "model = Model(inputs=inputs, outputs=outputs)\n",
        "\n",
        "model.compile(optimizer='adam', loss='sparse_categorical_crossentropy', metrics=['accuracy'])\n"
      ],
      "metadata": {
        "id": "Jlbeyh9mDbxf"
      },
      "execution_count": 6,
      "outputs": []
    },
    {
      "cell_type": "markdown",
      "source": [
        "# Complex model with multiple inputs"
      ],
      "metadata": {
        "id": "PcguyKnXD_NF"
      }
    },
    {
      "cell_type": "code",
      "source": [
        "from tensorflow.keras.layers import concatenate\n",
        "\n",
        "inputA = Input(shape=(64,))\n",
        "inputB = Input(shape=(128,))\n",
        "\n",
        "x = Dense(8, activation='relu')(inputA)\n",
        "x = Dense(4, activation='relu')(x)\n",
        "x = Model(inputs = inputA, outputs = x)\n",
        "\n",
        "y = Dense(16, activation='relu')(inputB)\n",
        "y = Dense(8, activation='relu')(y)\n",
        "y = Model(inputs = inputB, outputs = y)\n",
        "\n",
        "combined = concatenate([x.output, y.output])\n",
        "\n",
        "z = Dense(2, activation='relu')(combined)\n",
        "z = Dense(1, activation='linear')(z)\n",
        "\n",
        "model = Model(inputs=[x.input, y.input], outputs=z)\n",
        "\n",
        "model.compile(optimizer='adam', loss='mean_squared_error')"
      ],
      "metadata": {
        "id": "S0e4UX_dDyTg"
      },
      "execution_count": 9,
      "outputs": []
    },
    {
      "cell_type": "code",
      "source": [
        "# Shared layers and complex architectures\n",
        "\n",
        "from tensorflow.keras.layers import Lambda\n",
        "\n",
        "input = Input(shape = (28,28,1))\n",
        "conv_base = Dense(64, activation='relu')\n",
        "processed_1 = conv_base(input)\n",
        "processed_2 = conv_base(input)\n",
        "\n",
        "model = Model(inputs = input, outputs = [processed_1, processed_2])"
      ],
      "metadata": {
        "id": "XRJx9sPHEo98"
      },
      "execution_count": 10,
      "outputs": []
    },
    {
      "cell_type": "code",
      "source": [
        "#Practical Example\n",
        "\n",
        "from tensorflow.keras.layers import Conv2D, MaxPooling2D, Flatten, Dense\n",
        "from tensorflow.keras.activations import relu, linear\n",
        "\n",
        "inputA = Input(shape=(32,32,1))\n",
        "x = Conv2D(32, (3,3), activation=relu)(inputA)\n",
        "x = MaxPooling2D((2,2))(x)\n",
        "x = Flatten()(x)\n",
        "x = Model(inputs = inputA, outputs = x)\n",
        "\n",
        "inputB = Input(shape=(32,32,1))\n",
        "y = Conv2D(32,(3,3), activation=relu)(inputB)\n",
        "y = MaxPooling2D((2,2))(y)\n",
        "y = Flatten()(y)\n",
        "y = Model(inputs = inputB, outputs = y)\n",
        "\n",
        "combined = concatenate([x.output, y.output])\n",
        "\n",
        "z = Dense(64, activation=relu)(combined)\n",
        "z = Dense(1, activation=linear)(z)\n",
        "\n",
        "model = Model(inputs=[x.input, y.input], outputs=z)"
      ],
      "metadata": {
        "id": "OVv6cjMbTCSF"
      },
      "execution_count": 11,
      "outputs": []
    },
    {
      "cell_type": "markdown",
      "source": [
        "#Keras Subclassing API"
      ],
      "metadata": {
        "id": "VMT2LLAlUWK4"
      }
    },
    {
      "cell_type": "code",
      "source": [
        "import tensorflow as tf\n",
        "\n",
        "class MyModel(tf.keras.Model):\n",
        "  def __init__(self):\n",
        "    super(MyModel, self).__init__()\n",
        "    self.dense1 = tf.keras.layers.Dense(64, activation='relu')\n",
        "    self.dense2 = tf.keras.layers.Dense(10, activation='softmax')\n",
        "\n",
        "  def call(self, inputs):\n",
        "    x = self.dense1(inputs)\n",
        "    return self.dense2(x)\n",
        "\n",
        "model = MyModel()\n",
        "\n",
        "loss_fn = tf.keras.losses.SparseCategoricalCrossentropy()\n",
        "optimizer = tf.keras.optimizers.Adam()"
      ],
      "metadata": {
        "id": "yoAyXuWbUQXs"
      },
      "execution_count": 12,
      "outputs": []
    },
    {
      "cell_type": "code",
      "source": [],
      "metadata": {
        "id": "Z5qaIZzMUx8v"
      },
      "execution_count": null,
      "outputs": []
    }
  ]
}